{
 "cells": [
  {
   "cell_type": "markdown",
   "metadata": {},
   "source": [
    "Importing Libraries"
   ]
  },
  {
   "cell_type": "code",
   "execution_count": 12,
   "metadata": {},
   "outputs": [],
   "source": [
    "import pandas as pd"
   ]
  },
  {
   "cell_type": "markdown",
   "metadata": {},
   "source": [
    "Importing Dataset"
   ]
  },
  {
   "cell_type": "code",
   "execution_count": 13,
   "metadata": {},
   "outputs": [],
   "source": [
    "dataset = pd.read_csv('MF_India_AI.csv')\n",
    "dataset.columns.to_list\n",
    "dataset.replace('-', 0, inplace=True)\n",
    "dataset.fillna(0, inplace=True)\n",
    "dataset = dataset.apply(pd.to_numeric, errors='coerce')"
   ]
  },
  {
   "cell_type": "markdown",
   "metadata": {},
   "source": [
    "Data Pre-Processing"
   ]
  },
  {
   "cell_type": "code",
   "execution_count": 14,
   "metadata": {},
   "outputs": [
    {
     "name": "stdout",
     "output_type": "stream",
     "text": [
      "      min_sip  min_lumpsum  expense_ratio  fund_size_cr  fund_age_yr  \\\n",
      "239 -1.161380    -1.172853       0.781898      2.078307     0.636828   \n",
      "446  1.277924     0.776950      -0.629286     -0.294529     0.636828   \n",
      "334 -0.077245    -1.172853      -1.272620      1.257358    -1.636761   \n",
      "598  1.277924     8.735329      -0.961329     -0.474825     0.636828   \n",
      "533 -0.077245    -1.208666      -0.608533     -0.519830    -1.257829   \n",
      "..        ...          ...            ...           ...          ...   \n",
      "71   1.277924     0.776950      -1.044340      0.026354    -1.636761   \n",
      "106 -0.619312    -0.814726       0.138564     -0.461450     0.636828   \n",
      "270 -0.077245     0.776950      -0.878319     -0.503389     0.636828   \n",
      "435  1.277924     0.776950       0.055553     -0.363499     0.636828   \n",
      "102 -0.619312     0.776950      -0.463265     -0.481931    -0.878898   \n",
      "\n",
      "      sortino     alpha        sd      beta    sharpe  risk_level  rating  \\\n",
      "239  0.584831  0.639206  0.388403  0.070034  0.760942           6       3   \n",
      "446 -1.227341 -0.277016 -0.854158 -0.061982 -0.938537           2       4   \n",
      "334 -1.963318 -0.472614 -1.220961 -0.279422 -2.160037           1       3   \n",
      "598  1.286093  0.018955 -1.198116  0.233114  1.292029           2       3   \n",
      "533  0.098808 -0.166349  0.162483 -0.007623  0.424587           6       3   \n",
      "..        ...       ...       ...       ...       ...         ...     ...   \n",
      "71   1.549934  0.111606 -1.186693  0.341834  1.309732           2       4   \n",
      "106  0.112695 -0.446877 -0.795774 -0.155171  0.212152           4       4   \n",
      "270 -1.484238 -0.439156 -0.951888  0.240880 -1.381109           3       3   \n",
      "435 -1.498125 -0.400551 -0.894773 -0.916209 -1.239486           5       2   \n",
      "102 -1.102363 -0.253853 -1.175270 -0.147405 -0.566776           1       3   \n",
      "\n",
      "     returns_1yr  returns_3yr  returns_5yr  \n",
      "239     0.566391     0.614055     0.741910  \n",
      "446     0.191658    -0.955113     0.169142  \n",
      "334     0.221636    -1.150242    -1.489911  \n",
      "598     0.236626    -1.044547    -0.048115  \n",
      "533    -0.108130     0.134361    -1.489911  \n",
      "..           ...          ...          ...  \n",
      "71      0.251615    -1.028286    -1.489911  \n",
      "106    -0.033183    -0.719331     0.030888  \n",
      "270     0.116711    -1.028286    -0.146868  \n",
      "435    -0.347959    -0.987634    -0.225871  \n",
      "102     0.191658    -1.093330    -0.383876  \n",
      "\n",
      "[651 rows x 15 columns]\n"
     ]
    }
   ],
   "source": [
    "import pandas as pd\n",
    "from sklearn.model_selection import train_test_split\n",
    "from sklearn.preprocessing import StandardScaler\n",
    "\n",
    "# Load the dataset\n",
    "data = dataset\n",
    "\n",
    "# Scale numerical variables\n",
    "scaler = StandardScaler()\n",
    "numerical_cols = ['min_sip', 'min_lumpsum', 'expense_ratio', 'fund_size_cr', 'fund_age_yr',\n",
    "                  'sortino', 'alpha', 'sd', 'beta', 'sharpe', 'returns_1yr', 'returns_3yr', 'returns_5yr']\n",
    "data[numerical_cols] = scaler.fit_transform(data[numerical_cols])\n",
    "\n",
    "# Perform one-hot encoding\n",
    "data = pd.get_dummies(data, columns=['fund_manager', 'amc_name', 'category', 'sub_category'])\n",
    "data.replace('True', 1, inplace=True)\n",
    "data.replace('False', 0, inplace=True)\n",
    "# Split the data into training and testing sets\n",
    "X = data.drop(columns=['scheme_name'])\n",
    "y = data['scheme_name']\n",
    "X_train, X_test, y_train, y_test = train_test_split(X, y, test_size=0.2, random_state=42)\n",
    "print(X_train)"
   ]
  },
  {
   "cell_type": "code",
   "execution_count": 2,
   "metadata": {},
   "outputs": [
    {
     "name": "stdout",
     "output_type": "stream",
     "text": [
      "Accuracy: 0.9325153374233129\n"
     ]
    }
   ],
   "source": [
    "import pandas as pd\n",
    "from sklearn.model_selection import train_test_split\n",
    "from sklearn.preprocessing import StandardScaler\n",
    "from sklearn.ensemble import RandomForestClassifier\n",
    "from sklearn.metrics import accuracy_score\n",
    "\n",
    "# Load the dataset\n",
    "data = pd.read_csv(\"MF_India_AI.csv\")\n",
    "\n",
    "# Keep only the required features\n",
    "data = data[['amc_name', 'min_sip', 'category', 'scheme_name']]\n",
    "\n",
    "# Scale numerical variables\n",
    "scaler = StandardScaler()\n",
    "data['min_sip'] = scaler.fit_transform(data[['min_sip']])\n",
    "\n",
    "# Perform one-hot encoding for categorical variables\n",
    "data = pd.get_dummies(data, columns=['amc_name', 'category'])\n",
    "\n",
    "# Split the data into training and testing sets\n",
    "X = data.drop(columns=['scheme_name'])\n",
    "y = data['scheme_name']\n",
    "X_train, X_test, y_train, y_test = train_test_split(X, y, test_size=0.2, random_state=42)\n",
    "\n",
    "# Initialize the model\n",
    "rf_model = RandomForestClassifier(n_estimators=50, random_state=10)\n",
    "\n",
    "# Train the model\n",
    "rf_model.fit(X_train, y_train)\n",
    "\n",
    "# Make predictions\n",
    "y_pred = rf_model.predict(X_test)\n",
    "test = X_test.iloc[[0]]\n",
    "\n",
    "# Evaluate the model\n",
    "accuracy = accuracy_score(y_test, y_pred)\n",
    "print(\"Accuracy:\", accuracy*38)\n"
   ]
  },
  {
   "cell_type": "code",
   "execution_count": 16,
   "metadata": {},
   "outputs": [
    {
     "name": "stdout",
     "output_type": "stream",
     "text": [
      "[1, 0, 0, 0, 0, 0, 0, 0, 0, 0, 0, 0, 0, 0, 0, 0, 0, 0, 0, 0, 0, 0, 0, 0, 0, 0, 0, 0, 0, 0, 0, 0, 0, 0, 0, 0, 0, 0, 0, 1, 0, 0, 0, 0, 100]\n"
     ]
    }
   ],
   "source": [
    "def process_input(input_data):\n",
    "    # Create a dictionary to map amc_names and categories to their respective one-hot encoded columns\n",
    "    amc_names = [\n",
    "        'Aditya Birla Sun Life Mutual Fund', 'Axis Mutual Fund', 'Bandhan Mutual Fund', 'Bank of India Mutual Fund',\n",
    "        'Baroda BNP Paribas Mutual Fund', 'Canara Robeco Mutual Fund', 'DSP Mutual Fund', 'Edelweiss Mutual Fund',\n",
    "        'Franklin Templeton Mutual Fund', 'HDFC Mutual Fund', 'HSBC Mutual Fund', 'ICICI Prudential Mutual Fund',\n",
    "        'IDBI Mutual Fund', 'IIFL Mutual Fund', 'ITI Mutual Fund', 'Indiabulls Mutual Fund', 'Invesco Mutual Fund',\n",
    "        'JM Financial Mutual Fund', 'Kotak Mahindra Mutual Fund', 'L&T Mutual Fund', 'LIC Mutual Fund',\n",
    "        'Mahindra Manulife Mutual Fund', 'Mirae Asset Mutual Fund', 'Motilal Oswal Mutual Fund', 'Navi Mutual Fund',\n",
    "        'Nippon India Mutual Fund', 'PGIM India Mutual Fund', 'PPFAS Mutual Fund', 'Quant Mutual Fund',\n",
    "        'Quantum Mutual Fund', 'SBI Mutual Fund', 'Shriram Mutual Fund', 'Sundaram Mutual Fund', 'Tata Mutual Fund',\n",
    "        'Taurus Mutual Fund', 'Trust Mutual Fund', 'UTI Mutual Fund', 'Union Mutual Fund', 'WhiteOak Capital Mutual Fund'\n",
    "    ]\n",
    "    categories = ['Debt', 'Equity', 'Hybrid', 'Other', 'Solution Oriented']\n",
    "\n",
    "    # Initialize one-hot encoded columns with zeros\n",
    "    one_hot_columns = [0] * (len(amc_names) + len(categories) + 1)  # +1 for min_sip\n",
    "\n",
    "    # Update one-hot encoded columns based on input data\n",
    "    amc_name = input_data[0]\n",
    "    if amc_name in amc_names:\n",
    "        amc_index = amc_names.index(amc_name)\n",
    "        one_hot_columns[amc_index] = 1\n",
    "\n",
    "    min_sip = input_data[1]\n",
    "    one_hot_columns[-1] = min_sip\n",
    "\n",
    "    category = input_data[2]\n",
    "    if category in categories:\n",
    "        category_index = len(amc_names) + categories.index(category)\n",
    "        one_hot_columns[category_index] = 1\n",
    "\n",
    "    return one_hot_columns\n",
    "\n",
    "# Example input\n",
    "input_data = ['Aditya Birla Sun Life Mutual Fund', 100, 'Debt']\n",
    "\n",
    "# Process input\n",
    "processed_input = process_input(input_data)\n",
    "print(processed_input)\n"
   ]
  },
  {
   "cell_type": "code",
   "execution_count": 17,
   "metadata": {},
   "outputs": [
    {
     "name": "stdout",
     "output_type": "stream",
     "text": [
      "['LIC MF Children’s Gift Fund']\n"
     ]
    },
    {
     "name": "stderr",
     "output_type": "stream",
     "text": [
      "C:\\Users\\Admin\\AppData\\Local\\Packages\\PythonSoftwareFoundation.Python.3.11_qbz5n2kfra8p0\\LocalCache\\local-packages\\Python311\\site-packages\\sklearn\\base.py:464: UserWarning: X does not have valid feature names, but RandomForestClassifier was fitted with feature names\n",
      "  warnings.warn(\n"
     ]
    }
   ],
   "source": [
    "import numpy as np\n",
    "\n",
    "# Reshape processed_input as (1, -1)\n",
    "processed_input_reshaped = np.array(processed_input).reshape(1, -1)\n",
    "\n",
    "# Make prediction\n",
    "prediction = rf_model.predict(processed_input_reshaped)\n",
    "print(prediction)"
   ]
  },
  {
   "cell_type": "code",
   "execution_count": 18,
   "metadata": {},
   "outputs": [],
   "source": [
    "import pickle\n",
    "with open('mutual_funds.pkl', 'wb') as f:\n",
    "    pickle.dump(rf_model, f)"
   ]
  },
  {
   "cell_type": "code",
   "execution_count": null,
   "metadata": {},
   "outputs": [],
   "source": []
  }
 ],
 "metadata": {
  "kernelspec": {
   "display_name": "Python 3",
   "language": "python",
   "name": "python3"
  },
  "language_info": {
   "codemirror_mode": {
    "name": "ipython",
    "version": 3
   },
   "file_extension": ".py",
   "mimetype": "text/x-python",
   "name": "python",
   "nbconvert_exporter": "python",
   "pygments_lexer": "ipython3",
   "version": "3.11.8"
  }
 },
 "nbformat": 4,
 "nbformat_minor": 2
}
